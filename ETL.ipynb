{
 "cells": [
  {
   "cell_type": "code",
   "execution_count": 1,
   "metadata": {},
   "outputs": [],
   "source": [
    "#inicializar kernel"
   ]
  },
  {
   "cell_type": "code",
   "execution_count": 6,
   "metadata": {},
   "outputs": [],
   "source": [
    "import pandas as pd\n",
    "import numpy as np\n",
    "import mysql.connector\n",
    "from sqlalchemy import create_engine"
   ]
  },
  {
   "cell_type": "markdown",
   "metadata": {},
   "source": [
    "## Funciones\n",
    "### Creamos una funcion para descargar los datos de archivos excel donde podemos especificar las hojas a descargar, otra para analizar valores y una tercera para limpiar los datos"
   ]
  },
  {
   "cell_type": "code",
   "execution_count": 13,
   "metadata": {},
   "outputs": [],
   "source": [
    "def cargar_datos_desde_excel(archivo, hojas, engine='openpyxl'):\n",
    "    \"\"\"\n",
    "    Carga datos desde un archivo Excel y devuelve un diccionario de DataFrames.\n",
    "\n",
    "    Parameters:\n",
    "    - archivo (str): Ruta del archivo Excel.\n",
    "    - hojas (list): Lista de nombres de hojas a cargar.\n",
    "    - engine (str, optional): Motor de Excel a utilizar. Por defecto, 'openpyxl'.\n",
    "\n",
    "    Returns:\n",
    "    dfs: Un diccionario donde las claves son los nombres de las hojas y los valores son DataFrames correspondientes.\n",
    "\n",
    "    Example:\n",
    "    >>> datos = cargar_datos_desde_excel('archivo.xlsx', ['Hoja1', 'Hoja2'])\n",
    "    >>> df_hoja1 = datos['Hoja1']\n",
    "    >>> df_hoja2 = datos['Hoja2']\n",
    "    \"\"\"\n",
    "    \n",
    "    xls_file = pd.ExcelFile(archivo, engine=engine)\n",
    "    dfs = {}\n",
    "\n",
    "    for hoja in hojas:\n",
    "        df = pd.read_excel(xls_file, hoja) \n",
    "        dfs[hoja] = df\n",
    "\n",
    "    return dfs\n"
   ]
  },
  {
   "cell_type": "code",
   "execution_count": 14,
   "metadata": {},
   "outputs": [],
   "source": [
    "def analizar_valores_sd(dataframe):\n",
    "    \"\"\"\n",
    "    Analiza la presencia de valores 'SD' en cada columna del DataFrame.\n",
    "\n",
    "    Parameters:\n",
    "    dataframe (pd.DataFrame): El DataFrame a analizar.\n",
    "\n",
    "    Returns:\n",
    "    pd.DataFrame: Un DataFrame que muestra la cantidad y porcentaje de valores 'SD' en cada columna.\n",
    "    \"\"\"\n",
    "    columnas_con_sd = dataframe.columns\n",
    "    resultados = []\n",
    "\n",
    "    for columna in columnas_con_sd:\n",
    "        cantidad_sd = dataframe[columna].eq('SD').sum()\n",
    "        porcentaje_sd = (cantidad_sd / len(dataframe)) * 100\n",
    "        resultados.append({'Columna': columna, 'Cantidad de SD': cantidad_sd, 'Porcentaje de SD': porcentaje_sd})\n",
    "\n",
    "    resultados_df = pd.DataFrame(resultados)\n",
    "    resultados_con_sd = resultados_df[resultados_df['Cantidad de SD'] > 0]\n",
    "\n",
    "    return resultados_con_sd"
   ]
  },
  {
   "cell_type": "code",
   "execution_count": 15,
   "metadata": {},
   "outputs": [],
   "source": [
    "def data_cleaning(df, drop_duplicates=False, drop_na=False, fill_na=None, convert_to_datetime=None, uppercase_columns=None,\n",
    "                  lowercase_columns=None, titlecase_columns=None, strip_spaces=True, rename_columns=None, drop_columns=None,\n",
    "                  categorize_columns=None, replace_values=None, new_columns=None, convert_date_columns=None, \n",
    "                  convert_to_int_columns=None, convert_to_float=None, new_columns2=None):\n",
    "    \"\"\"\n",
    "    Realiza el proceso de limpieza de datos en un DataFrame.\n",
    "\n",
    "    Parámetros:\n",
    "    - df (pd.DataFrame): El DataFrame que se va a limpiar.\n",
    "    \n",
    "    - drop_duplicates (bool): Elimina duplicados si es True.\n",
    "      Ejemplo: cleaned_df = data_cleaning(df_tu_data_frame, drop_duplicates=True)\n",
    "    \n",
    "    - drop_na (bool): Elimina filas con valores nulos si es True.\n",
    "      Ejemplo: cleaned_df = data_cleaning(df_tu_data_frame, drop_na=True)\n",
    "\n",
    "    - fill_na (dict): Un diccionario donde las claves son los nombres de columnas y los valores son valores para rellenar los nulos.\n",
    "      Ejemplo: fill_na_dict = {'gravedad': 'leve'}\n",
    "               cleaned_df = data_cleaning(df_tu_data_frame, fill_na=fill_na_dict)\n",
    "        \n",
    "    - convert_to_datetime (list): Lista de columnas para convertir a tipo de dato datetime.\n",
    "      Ejemplo: columns_to_convert = ['fecha', 'hora']\n",
    "               cleaned_df = data_cleaning(df_tu_data_frame, convert_to_datetime=columns_to_convert)\n",
    "\n",
    "    - uppercase_columns (list): Lista de columnas para convertir a mayúsculas.\n",
    "      Ejemplo: columns_to_uppercase = ['nombre', 'apellido']\n",
    "               cleaned_df = data_cleaning(df_tu_data_frame, uppercase_columns=columns_to_uppercase)\n",
    "\n",
    "    - lowercase_columns (list): Lista de columnas para convertir a minúsculas.\n",
    "      Ejemplo: columns_to_lowercase = ['Ciudad', 'Pais']\n",
    "               cleaned_df = data_cleaning(df_tu_data_frame, lowercase_columns=columns_to_lowercase)\n",
    "\n",
    "    - titlecase_columns (list): Lista de columnas para convertir a formato de título (primera letra en mayúscula, resto en minúscula).\n",
    "      Ejemplo: columns_to_titlecase = ['titulo', 'categoria']\n",
    "               cleaned_df = data_cleaning(df_tu_data_frame, titlecase_columns=columns_to_titlecase)\n",
    "            \n",
    "    - strip_spaces (bool): Elimina espacios en blanco alrededor de los valores de las celdas si es True.\n",
    "      Ejemplo: cleaned_df = data_cleaning(df_tu_data_frame, strip_spaces=True)\n",
    "\n",
    "    - rename_columns (dict): Un diccionario donde las claves son los nombres de las columnas actuales y los valores son los nuevos nombres.\n",
    "      Ejemplo: rename_dict = {'Vieja_Columna': 'Nueva_Columna'}\n",
    "               cleaned_df = data_cleaning(df_tu_data_frame, rename_columns=rename_dict)\n",
    "    \n",
    "    - drop_columns (list): Lista de columnas para eliminar.\n",
    "      Ejemplo: columns_to_drop = ['columna1', 'columna2']\n",
    "               cleaned_df = data_cleaning(df_tu_data_frame, drop_columns=columns_to_drop)\n",
    "        \n",
    "    - categorize_columns (list): Lista de columnas para convertir a tipo de dato categoría.\n",
    "      Ejemplo: columns_to_categorize = ['categoria1', 'categoria2']\n",
    "               cleaned_df = data_cleaning(df_tu_data_frame, categorize_columns=columns_to_categorize)\n",
    "        \n",
    "    - replace_values (dict): Un diccionario donde las claves son los nombres de las columnas y los valores son diccionarios de reemplazo.\n",
    "      Ejemplo: replace_dict = {'columna1': {'Antiguo1': 'Nuevo1', 'Antiguo2': 'Nuevo2'}}\n",
    "               cleaned_df = data_cleaning(df_tu_data_frame, replace_values=replace_dict)\n",
    "\n",
    "    - new_columns (dict): Un diccionario donde las claves son los nombres de las nuevas columnas y los valores son valores para esas columnas.\n",
    "      Ejemplo: new_columns_dict = {'nueva_columna': 0}\n",
    "               cleaned_df = data_cleaning(df_tu_data_frame, new_columns=new_columns_dict)\n",
    "               \n",
    "    - new_columns2 (dict): Un diccionario donde las claves son los nombres de las nuevas columnas y los valores son expresiones\n",
    "                          para calcular el contenido de las nuevas columnas basadas en otras columnas existentes. \n",
    "      Ejemplo: {'nueva_columna1': 'columna_existente * 2'}\n",
    "      cleaned_df = data_cleaning(df_tu_data_frame, new_columns2=new_columns_dict)\n",
    "\n",
    " \n",
    "    - convert_date_columns (dict): Un diccionario donde las claves son los nombres de las columnas y los valores son los formatos de fecha.\n",
    "      Ejemplo: date_columns_dict = {'fecha': '%Y-%m-%d', 'hora': '%H:%M:%S'}\n",
    "               cleaned_df = data_cleaning(df_tu_data_frame, convert_date_columns=date_columns_dict)\n",
    "\n",
    "    - convert_to_int_columns (list): Lista de columnas para convertir a tipo de dato entero.\n",
    "      Ejemplo: columns_to_int = ['columna1', 'columna2']\n",
    "               cleaned_df = data_cleaning(df_tu_data_frame, convert_to_int_columns=columns_to_int)\n",
    "    \n",
    "    - convert_to_float (list): Lista de columnas para convertir a tipo de dato float.\n",
    "      Ejemplo: columns_to_float = ['columna1', 'columna2']\n",
    "               cleaned_df = data_cleaning(df_tu_data_frame, convert_to_float=columns_to_float)          \n",
    "            \n",
    "    Retorna:\n",
    "    pd.DataFrame: El DataFrame limpio.\n",
    "    \"\"\"\n",
    "\n",
    "    cleaned_df = df.copy()\n",
    "\n",
    "    # Eliminar duplicados\n",
    "    if drop_duplicates:\n",
    "        cleaned_df.drop_duplicates(inplace=True)\n",
    "        \n",
    "\n",
    "    # Eliminar filas con valores nulos\n",
    "    if drop_na:\n",
    "        cleaned_df.dropna(inplace=True)\n",
    "        \n",
    "\n",
    "    # Rellenar valores nulos\n",
    "    if fill_na:\n",
    "        cleaned_df.fillna(fill_na, inplace=True)\n",
    "\n",
    "        \n",
    "    # Convertir columnas a tipo datetime\n",
    "    if convert_to_datetime:\n",
    "        for column in convert_to_datetime:\n",
    "            cleaned_df[column] = pd.to_datetime(cleaned_df[column], errors='coerce')\n",
    "            \n",
    "\n",
    "    # Convertir columnas a mayúsculas\n",
    "    if uppercase_columns:\n",
    "        for column in uppercase_columns:\n",
    "            cleaned_df[column] = cleaned_df[column].str.upper()\n",
    "            \n",
    "\n",
    "    # Convertir columnas a minúsculas\n",
    "    if lowercase_columns:\n",
    "        for column in lowercase_columns:\n",
    "            cleaned_df[column] = cleaned_df[column].str.lower()\n",
    "        \n",
    "\n",
    "    # Convertir columnas a formato de título\n",
    "    if titlecase_columns:\n",
    "        for column in titlecase_columns:\n",
    "            cleaned_df[column] = cleaned_df[column].str.title()\n",
    "            \n",
    "            \n",
    "    # Tratar columnas con espacios\n",
    "    if strip_spaces:\n",
    "        cleaned_df = cleaned_df.applymap(lambda x: x.strip() if isinstance(x, str) else x)\n",
    "        \n",
    "\n",
    "    # Renombrar columnas\n",
    "    if rename_columns:\n",
    "        cleaned_df.rename(columns=rename_columns, inplace=True)\n",
    "        \n",
    "    \n",
    "    # Eliminar columnas\n",
    "    if drop_columns:\n",
    "        cleaned_df.drop(columns=drop_columns, inplace=True)\n",
    "        \n",
    "        \n",
    "    # Categorizar columnas\n",
    "    if categorize_columns:\n",
    "        for column in categorize_columns:\n",
    "            if column in cleaned_df.columns:\n",
    "                cleaned_df[column] = cleaned_df[column].astype('category')\n",
    "            else:\n",
    "                print(f\"La columna '{column}' no existe en el DataFrame.\")\n",
    "                \n",
    "\n",
    "    # Reemplazar valores en columnas\n",
    "    if replace_values:\n",
    "        for column, replacements in replace_values.items():\n",
    "            cleaned_df[column].replace(replacements, inplace=True)\n",
    "            \n",
    "    # Agregar nuevas columnas\n",
    "    if new_columns:\n",
    "        for column, value in new_columns.items():\n",
    "            cleaned_df[column] = value\n",
    "            \n",
    "    # Agregar nuevas columnas basadas en otras columnas\n",
    "    if new_columns2:\n",
    "        for new_column, column_expr in new_columns2.items():\n",
    "            # Verificar si la expresión es proporcionada\n",
    "            if column_expr:\n",
    "                cleaned_df[new_column] = cleaned_df.eval(column_expr)\n",
    "            else:\n",
    "                cleaned_df[new_column] = None  # O cualquier valor predeterminado que prefieras\n",
    "                  \n",
    "    # Convertir columnas de fecha con formato específico\n",
    "    if convert_date_columns:\n",
    "        for column, date_format in convert_date_columns.items():\n",
    "            cleaned_df[column] = pd.to_datetime(cleaned_df[column], format=date_format, errors='coerce')\n",
    "\n",
    "    \n",
    "    # Convertir columnas a tipo de dato entero\n",
    "    if convert_to_int_columns:\n",
    "        for column in convert_to_int_columns:\n",
    "            cleaned_df[column] = pd.to_numeric(cleaned_df[column], errors='coerce').astype('Int64')\n",
    "    \n",
    "    \n",
    "    # Convertir columnas a tipo float\n",
    "    if convert_to_float:\n",
    "        for column in convert_to_float:\n",
    "            cleaned_df[column] = cleaned_df[column].astype(float)\n",
    "        \n",
    "            \n",
    "    return cleaned_df"
   ]
  },
  {
   "cell_type": "markdown",
   "metadata": {},
   "source": [
    "## Empesamos a descargar y visualizar los datos de la Hoja HECHOS"
   ]
  },
  {
   "cell_type": "code",
   "execution_count": 9,
   "metadata": {},
   "outputs": [],
   "source": [
    "datos_homicidios = cargar_datos_desde_excel('homicidios.xlsx', ['HECHOS', 'VICTIMAS'])"
   ]
  },
  {
   "cell_type": "code",
   "execution_count": 10,
   "metadata": {},
   "outputs": [
    {
     "name": "stdout",
     "output_type": "stream",
     "text": [
      "Original DataFrame:\n"
     ]
    },
    {
     "data": {
      "text/html": [
       "<div>\n",
       "<style scoped>\n",
       "    .dataframe tbody tr th:only-of-type {\n",
       "        vertical-align: middle;\n",
       "    }\n",
       "\n",
       "    .dataframe tbody tr th {\n",
       "        vertical-align: top;\n",
       "    }\n",
       "\n",
       "    .dataframe thead th {\n",
       "        text-align: right;\n",
       "    }\n",
       "</style>\n",
       "<table border=\"1\" class=\"dataframe\">\n",
       "  <thead>\n",
       "    <tr style=\"text-align: right;\">\n",
       "      <th></th>\n",
       "      <th>ID</th>\n",
       "      <th>N_VICTIMAS</th>\n",
       "      <th>FECHA</th>\n",
       "      <th>AAAA</th>\n",
       "      <th>MM</th>\n",
       "      <th>DD</th>\n",
       "      <th>HORA</th>\n",
       "      <th>HH</th>\n",
       "      <th>LUGAR_DEL_HECHO</th>\n",
       "      <th>TIPO_DE_CALLE</th>\n",
       "      <th>...</th>\n",
       "      <th>Altura</th>\n",
       "      <th>Cruce</th>\n",
       "      <th>Dirección Normalizada</th>\n",
       "      <th>COMUNA</th>\n",
       "      <th>XY (CABA)</th>\n",
       "      <th>pos x</th>\n",
       "      <th>pos y</th>\n",
       "      <th>PARTICIPANTES</th>\n",
       "      <th>VICTIMA</th>\n",
       "      <th>ACUSADO</th>\n",
       "    </tr>\n",
       "  </thead>\n",
       "  <tbody>\n",
       "    <tr>\n",
       "      <th>0</th>\n",
       "      <td>2016-0001</td>\n",
       "      <td>1</td>\n",
       "      <td>2016-01-01</td>\n",
       "      <td>2016</td>\n",
       "      <td>1</td>\n",
       "      <td>1</td>\n",
       "      <td>04:00:00</td>\n",
       "      <td>4</td>\n",
       "      <td>AV PIEDRA BUENA Y AV FERNANDEZ DE LA CRUZ</td>\n",
       "      <td>AVENIDA</td>\n",
       "      <td>...</td>\n",
       "      <td>NaN</td>\n",
       "      <td>FERNANDEZ DE LA CRUZ, F., GRAL. AV.</td>\n",
       "      <td>PIEDRA BUENA AV. y FERNANDEZ DE LA CRUZ, F., G...</td>\n",
       "      <td>8</td>\n",
       "      <td>Point (98896.78238426 93532.43437792)</td>\n",
       "      <td>-58.47533969</td>\n",
       "      <td>-34.68757022</td>\n",
       "      <td>MOTO-AUTO</td>\n",
       "      <td>MOTO</td>\n",
       "      <td>AUTO</td>\n",
       "    </tr>\n",
       "    <tr>\n",
       "      <th>1</th>\n",
       "      <td>2016-0002</td>\n",
       "      <td>1</td>\n",
       "      <td>2016-01-02</td>\n",
       "      <td>2016</td>\n",
       "      <td>1</td>\n",
       "      <td>2</td>\n",
       "      <td>01:15:00</td>\n",
       "      <td>1</td>\n",
       "      <td>AV GRAL PAZ  Y AV DE LOS CORRALES</td>\n",
       "      <td>GRAL PAZ</td>\n",
       "      <td>...</td>\n",
       "      <td>NaN</td>\n",
       "      <td>DE LOS CORRALES AV.</td>\n",
       "      <td>PAZ, GRAL. AV. y DE LOS CORRALES AV.</td>\n",
       "      <td>9</td>\n",
       "      <td>Point (95832.05571093 95505.41641999)</td>\n",
       "      <td>-58.50877521</td>\n",
       "      <td>-34.66977709</td>\n",
       "      <td>AUTO-PASAJEROS</td>\n",
       "      <td>AUTO</td>\n",
       "      <td>PASAJEROS</td>\n",
       "    </tr>\n",
       "    <tr>\n",
       "      <th>2</th>\n",
       "      <td>2016-0003</td>\n",
       "      <td>1</td>\n",
       "      <td>2016-01-03</td>\n",
       "      <td>2016</td>\n",
       "      <td>1</td>\n",
       "      <td>3</td>\n",
       "      <td>07:00:00</td>\n",
       "      <td>7</td>\n",
       "      <td>AV ENTRE RIOS 2034</td>\n",
       "      <td>AVENIDA</td>\n",
       "      <td>...</td>\n",
       "      <td>2034.0</td>\n",
       "      <td>NaN</td>\n",
       "      <td>ENTRE RIOS AV. 2034</td>\n",
       "      <td>1</td>\n",
       "      <td>Point (106684.29090040 99706.57687843)</td>\n",
       "      <td>-58.39040293</td>\n",
       "      <td>-34.63189362</td>\n",
       "      <td>MOTO-AUTO</td>\n",
       "      <td>MOTO</td>\n",
       "      <td>AUTO</td>\n",
       "    </tr>\n",
       "  </tbody>\n",
       "</table>\n",
       "<p>3 rows × 21 columns</p>\n",
       "</div>"
      ],
      "text/plain": [
       "          ID  N_VICTIMAS      FECHA  AAAA  MM  DD      HORA HH  \\\n",
       "0  2016-0001           1 2016-01-01  2016   1   1  04:00:00  4   \n",
       "1  2016-0002           1 2016-01-02  2016   1   2  01:15:00  1   \n",
       "2  2016-0003           1 2016-01-03  2016   1   3  07:00:00  7   \n",
       "\n",
       "                             LUGAR_DEL_HECHO TIPO_DE_CALLE  ...  Altura  \\\n",
       "0  AV PIEDRA BUENA Y AV FERNANDEZ DE LA CRUZ       AVENIDA  ...     NaN   \n",
       "1          AV GRAL PAZ  Y AV DE LOS CORRALES      GRAL PAZ  ...     NaN   \n",
       "2                         AV ENTRE RIOS 2034       AVENIDA  ...  2034.0   \n",
       "\n",
       "                                 Cruce  \\\n",
       "0  FERNANDEZ DE LA CRUZ, F., GRAL. AV.   \n",
       "1                  DE LOS CORRALES AV.   \n",
       "2                                  NaN   \n",
       "\n",
       "                               Dirección Normalizada COMUNA  \\\n",
       "0  PIEDRA BUENA AV. y FERNANDEZ DE LA CRUZ, F., G...      8   \n",
       "1               PAZ, GRAL. AV. y DE LOS CORRALES AV.      9   \n",
       "2                                ENTRE RIOS AV. 2034      1   \n",
       "\n",
       "                                XY (CABA)         pos x         pos y  \\\n",
       "0   Point (98896.78238426 93532.43437792)  -58.47533969  -34.68757022   \n",
       "1   Point (95832.05571093 95505.41641999)  -58.50877521  -34.66977709   \n",
       "2  Point (106684.29090040 99706.57687843)  -58.39040293  -34.63189362   \n",
       "\n",
       "    PARTICIPANTES VICTIMA    ACUSADO  \n",
       "0       MOTO-AUTO    MOTO       AUTO  \n",
       "1  AUTO-PASAJEROS    AUTO  PASAJEROS  \n",
       "2       MOTO-AUTO    MOTO       AUTO  \n",
       "\n",
       "[3 rows x 21 columns]"
      ]
     },
     "execution_count": 10,
     "metadata": {},
     "output_type": "execute_result"
    }
   ],
   "source": [
    "h_hechos_df = datos_homicidios['HECHOS']\n",
    "print(\"Original DataFrame:\")\n",
    "h_hechos_df.head(3)"
   ]
  },
  {
   "cell_type": "code",
   "execution_count": 11,
   "metadata": {},
   "outputs": [
    {
     "name": "stdout",
     "output_type": "stream",
     "text": [
      "<class 'pandas.core.frame.DataFrame'>\n",
      "RangeIndex: 696 entries, 0 to 695\n",
      "Data columns (total 21 columns):\n",
      " #   Column                 Non-Null Count  Dtype         \n",
      "---  ------                 --------------  -----         \n",
      " 0   ID                     696 non-null    object        \n",
      " 1   N_VICTIMAS             696 non-null    int64         \n",
      " 2   FECHA                  696 non-null    datetime64[ns]\n",
      " 3   AAAA                   696 non-null    int64         \n",
      " 4   MM                     696 non-null    int64         \n",
      " 5   DD                     696 non-null    int64         \n",
      " 6   HORA                   696 non-null    object        \n",
      " 7   HH                     696 non-null    object        \n",
      " 8   LUGAR_DEL_HECHO        696 non-null    object        \n",
      " 9   TIPO_DE_CALLE          696 non-null    object        \n",
      " 10  Calle                  695 non-null    object        \n",
      " 11  Altura                 129 non-null    float64       \n",
      " 12  Cruce                  525 non-null    object        \n",
      " 13  Dirección Normalizada  688 non-null    object        \n",
      " 14  COMUNA                 696 non-null    int64         \n",
      " 15  XY (CABA)              696 non-null    object        \n",
      " 16  pos x                  696 non-null    object        \n",
      " 17  pos y                  696 non-null    object        \n",
      " 18  PARTICIPANTES          696 non-null    object        \n",
      " 19  VICTIMA                696 non-null    object        \n",
      " 20  ACUSADO                696 non-null    object        \n",
      "dtypes: datetime64[ns](1), float64(1), int64(5), object(14)\n",
      "memory usage: 114.3+ KB\n"
     ]
    }
   ],
   "source": [
    "h_hechos_df.info()"
   ]
  },
  {
   "cell_type": "markdown",
   "metadata": {},
   "source": [
    "Obsevamos parametros similares que luego en la etapa de Eda los revisaremos mas minusiosamente"
   ]
  },
  {
   "cell_type": "code",
   "execution_count": 16,
   "metadata": {},
   "outputs": [
    {
     "data": {
      "text/html": [
       "<div>\n",
       "<style scoped>\n",
       "    .dataframe tbody tr th:only-of-type {\n",
       "        vertical-align: middle;\n",
       "    }\n",
       "\n",
       "    .dataframe tbody tr th {\n",
       "        vertical-align: top;\n",
       "    }\n",
       "\n",
       "    .dataframe thead th {\n",
       "        text-align: right;\n",
       "    }\n",
       "</style>\n",
       "<table border=\"1\" class=\"dataframe\">\n",
       "  <thead>\n",
       "    <tr style=\"text-align: right;\">\n",
       "      <th></th>\n",
       "      <th>Columna</th>\n",
       "      <th>Cantidad de SD</th>\n",
       "      <th>Porcentaje de SD</th>\n",
       "    </tr>\n",
       "  </thead>\n",
       "  <tbody>\n",
       "    <tr>\n",
       "      <th>6</th>\n",
       "      <td>HORA</td>\n",
       "      <td>1</td>\n",
       "      <td>0.143678</td>\n",
       "    </tr>\n",
       "    <tr>\n",
       "      <th>7</th>\n",
       "      <td>HH</td>\n",
       "      <td>1</td>\n",
       "      <td>0.143678</td>\n",
       "    </tr>\n",
       "    <tr>\n",
       "      <th>8</th>\n",
       "      <td>LUGAR_DEL_HECHO</td>\n",
       "      <td>1</td>\n",
       "      <td>0.143678</td>\n",
       "    </tr>\n",
       "    <tr>\n",
       "      <th>19</th>\n",
       "      <td>VICTIMA</td>\n",
       "      <td>9</td>\n",
       "      <td>1.293103</td>\n",
       "    </tr>\n",
       "    <tr>\n",
       "      <th>20</th>\n",
       "      <td>ACUSADO</td>\n",
       "      <td>23</td>\n",
       "      <td>3.304598</td>\n",
       "    </tr>\n",
       "  </tbody>\n",
       "</table>\n",
       "</div>"
      ],
      "text/plain": [
       "            Columna  Cantidad de SD  Porcentaje de SD\n",
       "6              HORA               1          0.143678\n",
       "7                HH               1          0.143678\n",
       "8   LUGAR_DEL_HECHO               1          0.143678\n",
       "19          VICTIMA               9          1.293103\n",
       "20          ACUSADO              23          3.304598"
      ]
     },
     "execution_count": 16,
     "metadata": {},
     "output_type": "execute_result"
    }
   ],
   "source": [
    "resultados_h_hechos = analizar_valores_sd(h_hechos_df)\n",
    "resultados_h_hechos"
   ]
  },
  {
   "cell_type": "code",
   "execution_count": 17,
   "metadata": {},
   "outputs": [],
   "source": [
    "# Reemplazar 'SD' por NaN en todo el DataFrame\n",
    "\n",
    "h_hechos_df.replace(['SD','sd'], np.nan, inplace=True)"
   ]
  },
  {
   "cell_type": "code",
   "execution_count": 18,
   "metadata": {},
   "outputs": [],
   "source": [
    "# Columnas para pasar a minúcula\n",
    "\n",
    "columns_to_lower = ['TIPO_DE_CALLE', 'VICTIMA', 'ACUSADO']"
   ]
  },
  {
   "cell_type": "code",
   "execution_count": 19,
   "metadata": {},
   "outputs": [],
   "source": [
    "# Columnas para eliminar\n",
    "\n",
    "columns_to_drop = ['AAAA', 'MM', 'DD', 'HORA', 'LUGAR_DEL_HECHO','Calle','Altura',\n",
    "                   'Cruce','Dirección Normalizada','XY (CABA)','PARTICIPANTES']"
   ]
  },
  {
   "cell_type": "markdown",
   "metadata": {},
   "source": [
    "Decidimos eliminar las columnas 'AAAA', 'MM', y 'DD' del conjunto de datos, ya que la información de fecha ya está presente en la columna 'FECHA'. Esta decisión simplifica el conjunto de datos, mantiene una estructura más consistente y estandarizada, ahorra espacio y facilita el análisis temporal.\n",
    "\n",
    "Asimismo, eliminamos la columna 'HORA' debido a la redundancia de la información de hora, que ya está contenida en la columna 'HH'. Esta elección nos proporciona una visión más general y simplificada de la distribución de los siniestros a lo largo del día.\n",
    "\n",
    "Las columnas 'LUGAR_DEL_HECHO','Calle','Altura','Cruce' y 'Dirección Normalizada' implicaban datos de la dirección del hecho incluso, 'XY (CABA)' que contenía coordenadas en formato de proyección cartesiana también fue eliminada. Preferimos trabajar con las columnas de latitud y longitud por su mayor intuición, no tiene datos nulos, familiaridad para la mayoría de las personas, facilidad de representación gráfica en mapas y conformidad con estándares de sistemas de información geográfica (SIG).\n",
    "\n",
    "La columna 'PARTICIPANTES' contenia información concatenada redundante de 'VICTIMA' y 'ACUSADO', así que se mantuvieron éstas dos últimas."
   ]
  },
  {
   "cell_type": "code",
   "execution_count": 20,
   "metadata": {},
   "outputs": [],
   "source": [
    "rename_dict = {'ID': 'id_siniestro', 'N_VICTIMAS': 'nro_victimas', 'FECHA': 'fecha', 'HH': 'franja_hora',\n",
    "               'TIPO_DE_CALLE': 'tipo_calle', 'COMUNA': 'comuna', 'pos x': 'longitud', 'pos y': 'latitud',\n",
    "               'VICTIMA': 'vehiculo_victima', 'ACUSADO': 'vehiculo_acusado'}"
   ]
  },
  {
   "cell_type": "code",
   "execution_count": 21,
   "metadata": {},
   "outputs": [],
   "source": [
    "# Convertir a entero\n",
    "\n",
    "columns_to_int = [ 'nro_victimas', 'franja_hora', 'comuna']"
   ]
  },
  {
   "cell_type": "code",
   "execution_count": 22,
   "metadata": {},
   "outputs": [],
   "source": [
    "# Categorización de columnas\n",
    "\n",
    "columns_to_categorize = ['franja_hora', 'tipo_calle', 'comuna', 'vehiculo_victima', 'vehiculo_acusado']"
   ]
  },
  {
   "cell_type": "code",
   "execution_count": 23,
   "metadata": {},
   "outputs": [
    {
     "name": "stderr",
     "output_type": "stream",
     "text": [
      "C:\\Users\\MAQUINA\\AppData\\Local\\Temp\\ipykernel_10116\\2722711488.py:125: FutureWarning: DataFrame.applymap has been deprecated. Use DataFrame.map instead.\n",
      "  cleaned_df = cleaned_df.applymap(lambda x: x.strip() if isinstance(x, str) else x)\n"
     ]
    }
   ],
   "source": [
    "# Invocamos la función 'data_cleaning' para que haga el proceso de limpieza de los datos \n",
    "\n",
    "h_hechos_dfcleaned = data_cleaning(h_hechos_df,\n",
    "                                    strip_spaces=True, # Eliminar espacios en blanco\n",
    "                                    lowercase_columns=columns_to_lower, # Convertir a minúsculas                                    \n",
    "                                    drop_columns=columns_to_drop,  # Eliminar columnas\n",
    "                                    rename_columns=rename_dict,  # Renombrar columnas\n",
    "                                    convert_to_int_columns=columns_to_int, #Conversión entero\n",
    "                                    categorize_columns=columns_to_categorize # Categorizar columnas\n",
    "                                   )"
   ]
  },
  {
   "cell_type": "code",
   "execution_count": 25,
   "metadata": {},
   "outputs": [
    {
     "name": "stdout",
     "output_type": "stream",
     "text": [
      "<class 'pandas.core.frame.DataFrame'>\n",
      "RangeIndex: 696 entries, 0 to 695\n",
      "Data columns (total 10 columns):\n",
      " #   Column            Non-Null Count  Dtype         \n",
      "---  ------            --------------  -----         \n",
      " 0   id_siniestro      696 non-null    object        \n",
      " 1   nro_victimas      696 non-null    Int64         \n",
      " 2   fecha             696 non-null    datetime64[ns]\n",
      " 3   franja_hora       695 non-null    Int64         \n",
      " 4   tipo_calle        696 non-null    category      \n",
      " 5   comuna            696 non-null    Int64         \n",
      " 6   longitud          696 non-null    object        \n",
      " 7   latitud           696 non-null    object        \n",
      " 8   vehiculo_victima  687 non-null    category      \n",
      " 9   vehiculo_acusado  673 non-null    category      \n",
      "dtypes: Int64(3), category(3), datetime64[ns](1), object(3)\n",
      "memory usage: 43.2+ KB\n"
     ]
    }
   ],
   "source": [
    "h_hechos_dfcleaned.info()"
   ]
  },
  {
   "cell_type": "markdown",
   "metadata": {},
   "source": [
    "## Empesamos a descargar y visualizar los datos de la Hoja VICTIMAS"
   ]
  },
  {
   "cell_type": "code",
   "execution_count": 26,
   "metadata": {},
   "outputs": [],
   "source": [
    "# Acceder al DataFrame por nombre de hoja, Homicidios - Víctimas\n",
    "\n",
    "h_victimas_df = datos_homicidios['VICTIMAS']"
   ]
  },
  {
   "cell_type": "code",
   "execution_count": 27,
   "metadata": {},
   "outputs": [
    {
     "name": "stdout",
     "output_type": "stream",
     "text": [
      "Original DataFrame:\n"
     ]
    },
    {
     "data": {
      "text/html": [
       "<div>\n",
       "<style scoped>\n",
       "    .dataframe tbody tr th:only-of-type {\n",
       "        vertical-align: middle;\n",
       "    }\n",
       "\n",
       "    .dataframe tbody tr th {\n",
       "        vertical-align: top;\n",
       "    }\n",
       "\n",
       "    .dataframe thead th {\n",
       "        text-align: right;\n",
       "    }\n",
       "</style>\n",
       "<table border=\"1\" class=\"dataframe\">\n",
       "  <thead>\n",
       "    <tr style=\"text-align: right;\">\n",
       "      <th></th>\n",
       "      <th>ID_hecho</th>\n",
       "      <th>FECHA</th>\n",
       "      <th>AAAA</th>\n",
       "      <th>MM</th>\n",
       "      <th>DD</th>\n",
       "      <th>ROL</th>\n",
       "      <th>VICTIMA</th>\n",
       "      <th>SEXO</th>\n",
       "      <th>EDAD</th>\n",
       "      <th>FECHA_FALLECIMIENTO</th>\n",
       "    </tr>\n",
       "  </thead>\n",
       "  <tbody>\n",
       "    <tr>\n",
       "      <th>0</th>\n",
       "      <td>2016-0001</td>\n",
       "      <td>2016-01-01</td>\n",
       "      <td>2016</td>\n",
       "      <td>1</td>\n",
       "      <td>1</td>\n",
       "      <td>CONDUCTOR</td>\n",
       "      <td>MOTO</td>\n",
       "      <td>MASCULINO</td>\n",
       "      <td>19</td>\n",
       "      <td>2016-01-01 00:00:00</td>\n",
       "    </tr>\n",
       "    <tr>\n",
       "      <th>1</th>\n",
       "      <td>2016-0002</td>\n",
       "      <td>2016-01-02</td>\n",
       "      <td>2016</td>\n",
       "      <td>1</td>\n",
       "      <td>2</td>\n",
       "      <td>CONDUCTOR</td>\n",
       "      <td>AUTO</td>\n",
       "      <td>MASCULINO</td>\n",
       "      <td>70</td>\n",
       "      <td>2016-01-02 00:00:00</td>\n",
       "    </tr>\n",
       "    <tr>\n",
       "      <th>2</th>\n",
       "      <td>2016-0003</td>\n",
       "      <td>2016-01-03</td>\n",
       "      <td>2016</td>\n",
       "      <td>1</td>\n",
       "      <td>3</td>\n",
       "      <td>CONDUCTOR</td>\n",
       "      <td>MOTO</td>\n",
       "      <td>MASCULINO</td>\n",
       "      <td>30</td>\n",
       "      <td>2016-01-03 00:00:00</td>\n",
       "    </tr>\n",
       "  </tbody>\n",
       "</table>\n",
       "</div>"
      ],
      "text/plain": [
       "    ID_hecho      FECHA  AAAA  MM  DD        ROL VICTIMA       SEXO EDAD  \\\n",
       "0  2016-0001 2016-01-01  2016   1   1  CONDUCTOR    MOTO  MASCULINO   19   \n",
       "1  2016-0002 2016-01-02  2016   1   2  CONDUCTOR    AUTO  MASCULINO   70   \n",
       "2  2016-0003 2016-01-03  2016   1   3  CONDUCTOR    MOTO  MASCULINO   30   \n",
       "\n",
       "   FECHA_FALLECIMIENTO  \n",
       "0  2016-01-01 00:00:00  \n",
       "1  2016-01-02 00:00:00  \n",
       "2  2016-01-03 00:00:00  "
      ]
     },
     "execution_count": 27,
     "metadata": {},
     "output_type": "execute_result"
    }
   ],
   "source": [
    "print(\"Original DataFrame:\")\n",
    "h_victimas_df.head(3)"
   ]
  },
  {
   "cell_type": "code",
   "execution_count": 28,
   "metadata": {},
   "outputs": [
    {
     "name": "stdout",
     "output_type": "stream",
     "text": [
      "<class 'pandas.core.frame.DataFrame'>\n",
      "RangeIndex: 717 entries, 0 to 716\n",
      "Data columns (total 10 columns):\n",
      " #   Column               Non-Null Count  Dtype         \n",
      "---  ------               --------------  -----         \n",
      " 0   ID_hecho             717 non-null    object        \n",
      " 1   FECHA                717 non-null    datetime64[ns]\n",
      " 2   AAAA                 717 non-null    int64         \n",
      " 3   MM                   717 non-null    int64         \n",
      " 4   DD                   717 non-null    int64         \n",
      " 5   ROL                  717 non-null    object        \n",
      " 6   VICTIMA              717 non-null    object        \n",
      " 7   SEXO                 717 non-null    object        \n",
      " 8   EDAD                 717 non-null    object        \n",
      " 9   FECHA_FALLECIMIENTO  717 non-null    object        \n",
      "dtypes: datetime64[ns](1), int64(3), object(6)\n",
      "memory usage: 56.1+ KB\n"
     ]
    }
   ],
   "source": [
    "# Obtener información general del DataFrame\n",
    "\n",
    "h_victimas_df.info()"
   ]
  },
  {
   "cell_type": "code",
   "execution_count": 29,
   "metadata": {},
   "outputs": [
    {
     "data": {
      "text/html": [
       "<div>\n",
       "<style scoped>\n",
       "    .dataframe tbody tr th:only-of-type {\n",
       "        vertical-align: middle;\n",
       "    }\n",
       "\n",
       "    .dataframe tbody tr th {\n",
       "        vertical-align: top;\n",
       "    }\n",
       "\n",
       "    .dataframe thead th {\n",
       "        text-align: right;\n",
       "    }\n",
       "</style>\n",
       "<table border=\"1\" class=\"dataframe\">\n",
       "  <thead>\n",
       "    <tr style=\"text-align: right;\">\n",
       "      <th></th>\n",
       "      <th>Columna</th>\n",
       "      <th>Cantidad de SD</th>\n",
       "      <th>Porcentaje de SD</th>\n",
       "    </tr>\n",
       "  </thead>\n",
       "  <tbody>\n",
       "    <tr>\n",
       "      <th>5</th>\n",
       "      <td>ROL</td>\n",
       "      <td>11</td>\n",
       "      <td>1.534170</td>\n",
       "    </tr>\n",
       "    <tr>\n",
       "      <th>6</th>\n",
       "      <td>VICTIMA</td>\n",
       "      <td>9</td>\n",
       "      <td>1.255230</td>\n",
       "    </tr>\n",
       "    <tr>\n",
       "      <th>7</th>\n",
       "      <td>SEXO</td>\n",
       "      <td>6</td>\n",
       "      <td>0.836820</td>\n",
       "    </tr>\n",
       "    <tr>\n",
       "      <th>8</th>\n",
       "      <td>EDAD</td>\n",
       "      <td>53</td>\n",
       "      <td>7.391911</td>\n",
       "    </tr>\n",
       "    <tr>\n",
       "      <th>9</th>\n",
       "      <td>FECHA_FALLECIMIENTO</td>\n",
       "      <td>68</td>\n",
       "      <td>9.483961</td>\n",
       "    </tr>\n",
       "  </tbody>\n",
       "</table>\n",
       "</div>"
      ],
      "text/plain": [
       "               Columna  Cantidad de SD  Porcentaje de SD\n",
       "5                  ROL              11          1.534170\n",
       "6              VICTIMA               9          1.255230\n",
       "7                 SEXO               6          0.836820\n",
       "8                 EDAD              53          7.391911\n",
       "9  FECHA_FALLECIMIENTO              68          9.483961"
      ]
     },
     "execution_count": 29,
     "metadata": {},
     "output_type": "execute_result"
    }
   ],
   "source": [
    "# Invoca la función 'analizar_valores_sd'\n",
    "\n",
    "resultados_h_victimas = analizar_valores_sd(h_victimas_df)\n",
    "resultados_h_victimas"
   ]
  },
  {
   "cell_type": "code",
   "execution_count": 30,
   "metadata": {},
   "outputs": [],
   "source": [
    "# Columnas para pasar a minúcula\n",
    "\n",
    "columns_to_lower = ['SEXO','ROL']"
   ]
  },
  {
   "cell_type": "code",
   "execution_count": 31,
   "metadata": {},
   "outputs": [],
   "source": [
    "# Columnas para eliminar\n",
    "\n",
    "columns_to_drop = ['FECHA','AAAA', 'MM', 'DD', 'FECHA_FALLECIMIENTO', 'VICTIMA']"
   ]
  },
  {
   "cell_type": "markdown",
   "metadata": {},
   "source": [
    "Las columnas que decidimos eliminar nos parecen irrelevantes para nuestro análisis. Algunas de ellas se complementan con los datos de la hoja 'HECHO'"
   ]
  },
  {
   "cell_type": "code",
   "execution_count": 32,
   "metadata": {},
   "outputs": [],
   "source": [
    "# Renombrar columnas\n",
    "\n",
    "rename_dict = {'ID_hecho': 'id_siniestro', 'SEXO': 'sexo',\n",
    "               'EDAD': 'edad', 'ROL': 'rol'}"
   ]
  },
  {
   "cell_type": "code",
   "execution_count": 33,
   "metadata": {},
   "outputs": [],
   "source": [
    "# Convertir a entero\n",
    "\n",
    "columns_to_int = ['edad']"
   ]
  },
  {
   "cell_type": "code",
   "execution_count": 34,
   "metadata": {},
   "outputs": [
    {
     "name": "stderr",
     "output_type": "stream",
     "text": [
      "C:\\Users\\MAQUINA\\AppData\\Local\\Temp\\ipykernel_10116\\2722711488.py:125: FutureWarning: DataFrame.applymap has been deprecated. Use DataFrame.map instead.\n",
      "  cleaned_df = cleaned_df.applymap(lambda x: x.strip() if isinstance(x, str) else x)\n"
     ]
    }
   ],
   "source": [
    "# Invocamos la función 'data_cleaning' para que haga el proceso de limpieza de los datos \n",
    "\n",
    "h_victimas_dfcleaned = data_cleaning(h_victimas_df,\n",
    "                                    strip_spaces=True, # Eliminar espacios en blanco\n",
    "                                    lowercase_columns=columns_to_lower, # Convertir a minúsculas                                    \n",
    "                                    drop_columns=columns_to_drop,  # Eliminar columnas\n",
    "                                    rename_columns=rename_dict,  # Renombrar columnas \n",
    "                                    convert_to_int_columns=columns_to_int, #Conversión entero\n",
    "                                    )"
   ]
  },
  {
   "cell_type": "code",
   "execution_count": 35,
   "metadata": {},
   "outputs": [
    {
     "name": "stderr",
     "output_type": "stream",
     "text": [
      "C:\\Users\\MAQUINA\\AppData\\Local\\Temp\\ipykernel_10116\\2722711488.py:125: FutureWarning: DataFrame.applymap has been deprecated. Use DataFrame.map instead.\n",
      "  cleaned_df = cleaned_df.applymap(lambda x: x.strip() if isinstance(x, str) else x)\n"
     ]
    }
   ],
   "source": [
    "# Categorización de columnas\n",
    "\n",
    "columns_to_categorize = ['sexo','edad','rol']\n",
    "h_victimas_dfcleaned = data_cleaning(h_victimas_dfcleaned, categorize_columns=columns_to_categorize) "
   ]
  },
  {
   "cell_type": "code",
   "execution_count": 36,
   "metadata": {},
   "outputs": [
    {
     "name": "stdout",
     "output_type": "stream",
     "text": [
      "\n",
      "Cleaned DataFrame:\n"
     ]
    },
    {
     "data": {
      "text/html": [
       "<div>\n",
       "<style scoped>\n",
       "    .dataframe tbody tr th:only-of-type {\n",
       "        vertical-align: middle;\n",
       "    }\n",
       "\n",
       "    .dataframe tbody tr th {\n",
       "        vertical-align: top;\n",
       "    }\n",
       "\n",
       "    .dataframe thead th {\n",
       "        text-align: right;\n",
       "    }\n",
       "</style>\n",
       "<table border=\"1\" class=\"dataframe\">\n",
       "  <thead>\n",
       "    <tr style=\"text-align: right;\">\n",
       "      <th></th>\n",
       "      <th>id_siniestro</th>\n",
       "      <th>rol</th>\n",
       "      <th>sexo</th>\n",
       "      <th>edad</th>\n",
       "    </tr>\n",
       "  </thead>\n",
       "  <tbody>\n",
       "    <tr>\n",
       "      <th>0</th>\n",
       "      <td>2016-0001</td>\n",
       "      <td>conductor</td>\n",
       "      <td>masculino</td>\n",
       "      <td>19</td>\n",
       "    </tr>\n",
       "    <tr>\n",
       "      <th>1</th>\n",
       "      <td>2016-0002</td>\n",
       "      <td>conductor</td>\n",
       "      <td>masculino</td>\n",
       "      <td>70</td>\n",
       "    </tr>\n",
       "    <tr>\n",
       "      <th>2</th>\n",
       "      <td>2016-0003</td>\n",
       "      <td>conductor</td>\n",
       "      <td>masculino</td>\n",
       "      <td>30</td>\n",
       "    </tr>\n",
       "    <tr>\n",
       "      <th>3</th>\n",
       "      <td>2016-0004</td>\n",
       "      <td>conductor</td>\n",
       "      <td>masculino</td>\n",
       "      <td>18</td>\n",
       "    </tr>\n",
       "    <tr>\n",
       "      <th>4</th>\n",
       "      <td>2016-0005</td>\n",
       "      <td>conductor</td>\n",
       "      <td>masculino</td>\n",
       "      <td>29</td>\n",
       "    </tr>\n",
       "  </tbody>\n",
       "</table>\n",
       "</div>"
      ],
      "text/plain": [
       "  id_siniestro        rol       sexo edad\n",
       "0    2016-0001  conductor  masculino   19\n",
       "1    2016-0002  conductor  masculino   70\n",
       "2    2016-0003  conductor  masculino   30\n",
       "3    2016-0004  conductor  masculino   18\n",
       "4    2016-0005  conductor  masculino   29"
      ]
     },
     "execution_count": 36,
     "metadata": {},
     "output_type": "execute_result"
    }
   ],
   "source": [
    "print(\"\\nCleaned DataFrame:\")\n",
    "h_victimas_dfcleaned.head()"
   ]
  },
  {
   "cell_type": "code",
   "execution_count": 38,
   "metadata": {},
   "outputs": [],
   "source": [
    "# Fusionar DataFrames\n",
    "\n",
    "merged_df = pd.merge(h_hechos_dfcleaned, h_victimas_dfcleaned, left_on='id_siniestro', right_on='id_siniestro', how='inner')"
   ]
  },
  {
   "cell_type": "code",
   "execution_count": 41,
   "metadata": {},
   "outputs": [
    {
     "name": "stdout",
     "output_type": "stream",
     "text": [
      "<class 'pandas.core.frame.DataFrame'>\n",
      "RangeIndex: 717 entries, 0 to 716\n",
      "Data columns (total 13 columns):\n",
      " #   Column            Non-Null Count  Dtype         \n",
      "---  ------            --------------  -----         \n",
      " 0   id_siniestro      717 non-null    object        \n",
      " 1   nro_victimas      717 non-null    Int64         \n",
      " 2   fecha             717 non-null    datetime64[ns]\n",
      " 3   franja_hora       716 non-null    Int64         \n",
      " 4   tipo_calle        717 non-null    category      \n",
      " 5   comuna            717 non-null    Int64         \n",
      " 6   longitud          717 non-null    object        \n",
      " 7   latitud           717 non-null    object        \n",
      " 8   vehiculo_victima  708 non-null    category      \n",
      " 9   vehiculo_acusado  694 non-null    category      \n",
      " 10  rol               717 non-null    category      \n",
      " 11  sexo              717 non-null    category      \n",
      " 12  edad              664 non-null    category      \n",
      "dtypes: Int64(3), category(6), datetime64[ns](1), object(3)\n",
      "memory usage: 49.6+ KB\n"
     ]
    }
   ],
   "source": [
    "merged_df.info()\n"
   ]
  },
  {
   "cell_type": "code",
   "execution_count": 42,
   "metadata": {},
   "outputs": [],
   "source": [
    "# Almacenar los DataFrames finales en un nuevo archivo CSV\n",
    "\n",
    "merged_df.to_csv('homicidios_cleaned.csv', index=False)"
   ]
  }
 ],
 "metadata": {
  "kernelspec": {
   "display_name": "Python 3",
   "language": "python",
   "name": "python3"
  },
  "language_info": {
   "codemirror_mode": {
    "name": "ipython",
    "version": 3
   },
   "file_extension": ".py",
   "mimetype": "text/x-python",
   "name": "python",
   "nbconvert_exporter": "python",
   "pygments_lexer": "ipython3",
   "version": "3.12.1"
  }
 },
 "nbformat": 4,
 "nbformat_minor": 2
}
