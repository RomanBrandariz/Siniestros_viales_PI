{
 "cells": [
  {
   "cell_type": "markdown",
   "metadata": {},
   "source": [
    "### EDA (Exploratory Data Analysis)\n",
    "Luego del proceso de Extracción, Transformación y Carga (ETL) \n",
    "procederemos al Análisis Exploratorio de Datos (EDA)\n",
    "\n",
    "## Importamos librerias necesarias"
   ]
  },
  {
   "cell_type": "code",
   "execution_count": 2,
   "metadata": {},
   "outputs": [],
   "source": [
    "import pandas as pd\n",
    "import numpy as np\n",
    "import matplotlib.pyplot as plt\n",
    "import seaborn as sns\n",
    "import warnings\n",
    "import calendar\n",
    "import folium\n",
    "from IPython.display import Image\n",
    "\n",
    "# Ignorar las advertencias de Seaborn\n",
    "warnings.filterwarnings(\"ignore\")"
   ]
  },
  {
   "cell_type": "markdown",
   "metadata": {},
   "source": [
    "## Cargamos los datos resultantes de ETL"
   ]
  },
  {
   "cell_type": "code",
   "execution_count": 3,
   "metadata": {},
   "outputs": [
    {
     "data": {
      "text/html": [
       "<div>\n",
       "<style scoped>\n",
       "    .dataframe tbody tr th:only-of-type {\n",
       "        vertical-align: middle;\n",
       "    }\n",
       "\n",
       "    .dataframe tbody tr th {\n",
       "        vertical-align: top;\n",
       "    }\n",
       "\n",
       "    .dataframe thead th {\n",
       "        text-align: right;\n",
       "    }\n",
       "</style>\n",
       "<table border=\"1\" class=\"dataframe\">\n",
       "  <thead>\n",
       "    <tr style=\"text-align: right;\">\n",
       "      <th></th>\n",
       "      <th>id_siniestro</th>\n",
       "      <th>nro_victimas</th>\n",
       "      <th>fecha</th>\n",
       "      <th>franja_hora</th>\n",
       "      <th>tipo_calle</th>\n",
       "      <th>comuna</th>\n",
       "      <th>longitud</th>\n",
       "      <th>latitud</th>\n",
       "      <th>vehiculo_victima</th>\n",
       "      <th>vehiculo_acusado</th>\n",
       "      <th>rol</th>\n",
       "      <th>sexo</th>\n",
       "      <th>edad</th>\n",
       "    </tr>\n",
       "  </thead>\n",
       "  <tbody>\n",
       "    <tr>\n",
       "      <th>0</th>\n",
       "      <td>2016-0001</td>\n",
       "      <td>1</td>\n",
       "      <td>2016-01-01</td>\n",
       "      <td>4.0</td>\n",
       "      <td>avenida</td>\n",
       "      <td>8</td>\n",
       "      <td>-58.47533969</td>\n",
       "      <td>-34.68757022</td>\n",
       "      <td>moto</td>\n",
       "      <td>auto</td>\n",
       "      <td>conductor</td>\n",
       "      <td>masculino</td>\n",
       "      <td>19.0</td>\n",
       "    </tr>\n",
       "    <tr>\n",
       "      <th>1</th>\n",
       "      <td>2016-0002</td>\n",
       "      <td>1</td>\n",
       "      <td>2016-01-02</td>\n",
       "      <td>1.0</td>\n",
       "      <td>gral paz</td>\n",
       "      <td>9</td>\n",
       "      <td>-58.50877521</td>\n",
       "      <td>-34.66977709</td>\n",
       "      <td>auto</td>\n",
       "      <td>pasajeros</td>\n",
       "      <td>conductor</td>\n",
       "      <td>masculino</td>\n",
       "      <td>70.0</td>\n",
       "    </tr>\n",
       "    <tr>\n",
       "      <th>2</th>\n",
       "      <td>2016-0003</td>\n",
       "      <td>1</td>\n",
       "      <td>2016-01-03</td>\n",
       "      <td>7.0</td>\n",
       "      <td>avenida</td>\n",
       "      <td>1</td>\n",
       "      <td>-58.39040293</td>\n",
       "      <td>-34.63189362</td>\n",
       "      <td>moto</td>\n",
       "      <td>auto</td>\n",
       "      <td>conductor</td>\n",
       "      <td>masculino</td>\n",
       "      <td>30.0</td>\n",
       "    </tr>\n",
       "  </tbody>\n",
       "</table>\n",
       "</div>"
      ],
      "text/plain": [
       "  id_siniestro  nro_victimas       fecha  franja_hora tipo_calle  comuna  \\\n",
       "0    2016-0001             1  2016-01-01          4.0    avenida       8   \n",
       "1    2016-0002             1  2016-01-02          1.0   gral paz       9   \n",
       "2    2016-0003             1  2016-01-03          7.0    avenida       1   \n",
       "\n",
       "       longitud       latitud vehiculo_victima vehiculo_acusado        rol  \\\n",
       "0  -58.47533969  -34.68757022             moto             auto  conductor   \n",
       "1  -58.50877521  -34.66977709             auto        pasajeros  conductor   \n",
       "2  -58.39040293  -34.63189362             moto             auto  conductor   \n",
       "\n",
       "        sexo  edad  \n",
       "0  masculino  19.0  \n",
       "1  masculino  70.0  \n",
       "2  masculino  30.0  "
      ]
     },
     "execution_count": 3,
     "metadata": {},
     "output_type": "execute_result"
    }
   ],
   "source": [
    "homicidios_df = pd.read_csv('homicidios_cleaned.csv')\n",
    "homicidios_df.head(3)"
   ]
  },
  {
   "cell_type": "code",
   "execution_count": 3,
   "metadata": {},
   "outputs": [],
   "source": [
    "homicidios_df.shape\n",
    "homicidios_df.replace(['sd', 'SD'], pd.NA, inplace=True)"
   ]
  },
  {
   "cell_type": "code",
   "execution_count": 17,
   "metadata": {},
   "outputs": [
    {
     "name": "stdout",
     "output_type": "stream",
     "text": [
      "Empty DataFrame\n",
      "Columns: [id_siniestro, nro_victimas, fecha, franja_hora, tipo_calle, comuna, longitud, latitud, vehiculo_victima, vehiculo_acusado, rol, sexo, edad]\n",
      "Index: []\n"
     ]
    }
   ],
   "source": [
    "# Convertir las columnas 'longitud' y 'latitud' a tipo numérico\n",
    "homicidios_df['longitud'] = pd.to_numeric(homicidios_df['longitud'], errors='coerce')\n",
    "homicidios_df['latitud'] = pd.to_numeric(homicidios_df['latitud'], errors='coerce')\n",
    "\n",
    "# Buscar filas con longitud mayor a -58 o latitud mayor a -34\n",
    "filas_condicionadas = homicidios_df[(homicidios_df['longitud'] > -58)]\n",
    "\n",
    "# Imprimir las filas encontradas\n",
    "print(filas_condicionadas)\n",
    "\n"
   ]
  },
  {
   "cell_type": "code",
   "execution_count": 19,
   "metadata": {},
   "outputs": [
    {
     "name": "stdout",
     "output_type": "stream",
     "text": [
      "    id_siniestro  nro_victimas       fecha  franja_hora tipo_calle  comuna  \\\n",
      "39     2016-0052             1  2016-04-20         20.0  autopista      13   \n",
      "108    2016-0136             1  2016-10-25          0.0  autopista       4   \n",
      "121    2016-0151             1  2016-11-18         20.0      calle       0   \n",
      "141    2016-0174             1  2016-12-27          0.0  autopista       0   \n",
      "182    2017-0042             1  2017-04-10          9.0   gral paz      14   \n",
      "186    2017-0050             2  2017-04-28         11.0  autopista       9   \n",
      "187    2017-0050             2  2017-04-28         11.0  autopista       9   \n",
      "188    2017-0051             1  2017-05-01          3.0  autopista       7   \n",
      "266    2017-0140             1  2017-11-19         23.0  autopista       4   \n",
      "327    2018-0039             1  2018-04-21         22.0  autopista      14   \n",
      "564    2020-0026             1  2020-05-17          6.0  autopista      14   \n",
      "578    2020-0039             1  2020-09-01         19.0      calle       9   \n",
      "642    2021-0023             1  2021-03-01          9.0  autopista       4   \n",
      "\n",
      "     longitud  latitud vehiculo_victima vehiculo_acusado  \\\n",
      "39        NaN      NaN             moto              NaN   \n",
      "108       NaN      NaN             moto           cargas   \n",
      "121       NaN      NaN           peaton              NaN   \n",
      "141       NaN      NaN              NaN              NaN   \n",
      "182       NaN      NaN             moto           cargas   \n",
      "186       NaN      NaN             moto           cargas   \n",
      "187       NaN      NaN             moto           cargas   \n",
      "188       NaN      NaN             auto             auto   \n",
      "266       NaN      NaN             moto        pasajeros   \n",
      "327       NaN      NaN           peaton             auto   \n",
      "564       NaN      NaN             moto      objeto fijo   \n",
      "578       NaN      NaN           peaton           cargas   \n",
      "642       NaN      NaN             moto           cargas   \n",
      "\n",
      "                      rol       sexo  edad  \n",
      "39                     sd         sd   NaN  \n",
      "108             conductor         sd   NaN  \n",
      "121                peaton         sd   NaN  \n",
      "141                    sd         sd   NaN  \n",
      "182             conductor  masculino   NaN  \n",
      "186             conductor  masculino  46.0  \n",
      "187  pasajero_acompañante  masculino  16.0  \n",
      "188             conductor  masculino  33.0  \n",
      "266             conductor  masculino  24.0  \n",
      "327                peaton  masculino  37.0  \n",
      "564             conductor  masculino  28.0  \n",
      "578                peaton  masculino  44.0  \n",
      "642             conductor  masculino  24.0  \n"
     ]
    }
   ],
   "source": [
    "# Buscar filas con latitud o longitud NaN o nulas\n",
    "filas_faltantes = homicidios_df[homicidios_df['latitud'].isna() | homicidios_df['longitud'].isna()]\n",
    "\n",
    "# Imprimir las filas encontradas\n",
    "print(filas_faltantes)\n",
    "\n"
   ]
  },
  {
   "cell_type": "code",
   "execution_count": 20,
   "metadata": {},
   "outputs": [
    {
     "name": "stdout",
     "output_type": "stream",
     "text": [
      "    id_siniestro  nro_victimas       fecha  franja_hora tipo_calle  comuna  \\\n",
      "0      2016-0001             1  2016-01-01          4.0    avenida       8   \n",
      "1      2016-0002             1  2016-01-02          1.0   gral paz       9   \n",
      "2      2016-0003             1  2016-01-03          7.0    avenida       1   \n",
      "3      2016-0004             1  2016-01-10          0.0    avenida       8   \n",
      "4      2016-0005             1  2016-01-21          5.0    avenida       1   \n",
      "..           ...           ...         ...          ...        ...     ...   \n",
      "712    2021-0093             1  2021-12-13         17.0    avenida       7   \n",
      "713    2021-0094             1  2021-12-20          1.0  autopista       9   \n",
      "714    2021-0095             1  2021-12-30          0.0    avenida      11   \n",
      "715    2021-0096             1  2021-12-15         10.0    avenida       9   \n",
      "716    2021-0097             1  2021-11-18          6.0      calle       1   \n",
      "\n",
      "      longitud    latitud vehiculo_victima vehiculo_acusado  \\\n",
      "0   -58.475340 -34.687570             moto             auto   \n",
      "1   -58.508775 -34.669777             auto        pasajeros   \n",
      "2   -58.390403 -34.631894             moto             auto   \n",
      "3   -58.465039 -34.680930             moto              NaN   \n",
      "4   -58.387183 -34.622466             moto        pasajeros   \n",
      "..         ...        ...              ...              ...   \n",
      "712 -58.433538 -34.645616             moto             auto   \n",
      "713 -58.467398 -34.651178             moto             auto   \n",
      "714 -58.472934 -34.619847             moto           cargas   \n",
      "715 -58.470668 -34.650217             auto           cargas   \n",
      "716 -58.379762 -34.586796        bicicleta             auto   \n",
      "\n",
      "                      rol       sexo  edad  \n",
      "0               conductor  masculino  19.0  \n",
      "1               conductor  masculino  70.0  \n",
      "2               conductor  masculino  30.0  \n",
      "3               conductor  masculino  18.0  \n",
      "4               conductor  masculino  29.0  \n",
      "..                    ...        ...   ...  \n",
      "712  pasajero_acompañante   femenino  18.0  \n",
      "713  pasajero_acompañante   femenino  43.0  \n",
      "714             conductor  masculino  27.0  \n",
      "715             conductor  masculino  60.0  \n",
      "716              ciclista  masculino  53.0  \n",
      "\n",
      "[704 rows x 13 columns]\n",
      "    comuna    latitud   longitud\n",
      "0        1 -34.613168 -58.377711\n",
      "1        2 -34.589920 -58.395591\n",
      "2        3 -34.615418 -58.403083\n",
      "3        4 -34.644631 -58.395177\n",
      "4        5 -34.622486 -58.418113\n",
      "5        6 -34.620586 -58.440255\n",
      "6        7 -34.636266 -58.455196\n",
      "7        8 -34.678300 -58.465284\n",
      "8        9 -34.651377 -58.501604\n",
      "9       10 -34.630094 -58.500566\n",
      "10      11 -34.605872 -58.498610\n",
      "11      12 -34.561515 -58.494546\n",
      "12      13 -34.551733 -58.454505\n",
      "13      14 -34.580215 -58.417629\n",
      "14      15 -34.592205 -58.460347\n"
     ]
    }
   ],
   "source": [
    "\n",
    "# Filtrar las filas sin valores nulos o NaN en latitud y longitud\n",
    "homicidios_df_sin_faltantes = homicidios_df.dropna(subset=['latitud', 'longitud'])\n",
    "\n",
    "# Crear un nuevo DataFrame con el promedio de latitud y longitud por comuna\n",
    "promedio_lat_long_por_comuna = homicidios_df_sin_faltantes.groupby('comuna').agg({\n",
    "    'latitud': 'mean',\n",
    "    'longitud': 'mean'\n",
    "}).reset_index()\n",
    "\n",
    "# Imprimir el nuevo DataFrame sin filas faltantes\n",
    "print(homicidios_df_sin_faltantes)\n",
    "\n",
    "# Imprimir el nuevo DataFrame con el promedio de latitud y longitud por comuna\n",
    "print(promedio_lat_long_por_comuna)\n"
   ]
  },
  {
   "cell_type": "code",
   "execution_count": 22,
   "metadata": {},
   "outputs": [
    {
     "name": "stdout",
     "output_type": "stream",
     "text": [
      "    id_siniestro  nro_victimas       fecha  franja_hora tipo_calle  comuna  \\\n",
      "0      2016-0001             1  2016-01-01          4.0    avenida       8   \n",
      "1      2016-0002             1  2016-01-02          1.0   gral paz       9   \n",
      "2      2016-0003             1  2016-01-03          7.0    avenida       1   \n",
      "3      2016-0004             1  2016-01-10          0.0    avenida       8   \n",
      "4      2016-0005             1  2016-01-21          5.0    avenida       1   \n",
      "..           ...           ...         ...          ...        ...     ...   \n",
      "712    2021-0093             1  2021-12-13         17.0    avenida       7   \n",
      "713    2021-0094             1  2021-12-20          1.0  autopista       9   \n",
      "714    2021-0095             1  2021-12-30          0.0    avenida      11   \n",
      "715    2021-0096             1  2021-12-15         10.0    avenida       9   \n",
      "716    2021-0097             1  2021-11-18          6.0      calle       1   \n",
      "\n",
      "      longitud    latitud vehiculo_victima vehiculo_acusado  \\\n",
      "0   -58.475340 -34.687570             moto             auto   \n",
      "1   -58.508775 -34.669777             auto        pasajeros   \n",
      "2   -58.390403 -34.631894             moto             auto   \n",
      "3   -58.465039 -34.680930             moto              NaN   \n",
      "4   -58.387183 -34.622466             moto        pasajeros   \n",
      "..         ...        ...              ...              ...   \n",
      "712 -58.433538 -34.645616             moto             auto   \n",
      "713 -58.467398 -34.651178             moto             auto   \n",
      "714 -58.472934 -34.619847             moto           cargas   \n",
      "715 -58.470668 -34.650217             auto           cargas   \n",
      "716 -58.379762 -34.586796        bicicleta             auto   \n",
      "\n",
      "                      rol       sexo  edad  \n",
      "0               conductor  masculino  19.0  \n",
      "1               conductor  masculino  70.0  \n",
      "2               conductor  masculino  30.0  \n",
      "3               conductor  masculino  18.0  \n",
      "4               conductor  masculino  29.0  \n",
      "..                    ...        ...   ...  \n",
      "712  pasajero_acompañante   femenino  18.0  \n",
      "713  pasajero_acompañante   femenino  43.0  \n",
      "714             conductor  masculino  27.0  \n",
      "715             conductor  masculino  60.0  \n",
      "716              ciclista  masculino  53.0  \n",
      "\n",
      "[717 rows x 13 columns]\n"
     ]
    }
   ],
   "source": [
    "# Filtrar las filas sin valores nulos o NaN en latitud y longitud\n",
    "homicidios_df_sin_faltantes = homicidios_df.dropna(subset=['latitud', 'longitud'])\n",
    "\n",
    "# Crear un nuevo DataFrame con el promedio de latitud y longitud por comuna\n",
    "promedio_lat_long_por_comuna = homicidios_df_sin_faltantes.groupby('comuna').agg({\n",
    "    'latitud': 'mean',\n",
    "    'longitud': 'mean'\n",
    "}).reset_index()\n",
    "\n",
    "# Combinar el DataFrame original con los promedios por comuna\n",
    "homicidios_df_combinado = pd.merge(homicidios_df, promedio_lat_long_por_comuna, on='comuna', how='left', suffixes=('', '_promedio'))\n",
    "\n",
    "# Actualizar las filas con valores nulos en latitud o longitud con los promedios correspondientes\n",
    "homicidios_df_combinado['latitud'] = homicidios_df_combinado['latitud'].fillna(homicidios_df_combinado['latitud_promedio'])\n",
    "homicidios_df_combinado['longitud'] = homicidios_df_combinado['longitud'].fillna(homicidios_df_combinado['longitud_promedio'])\n",
    "\n",
    "# Eliminar columnas auxiliares\n",
    "homicidios_df_combinado = homicidios_df_combinado.drop(['latitud_promedio', 'longitud_promedio'], axis=1)\n",
    "\n",
    "# Imprimir el DataFrame combinado y actualizado\n",
    "print(homicidios_df_combinado)\n",
    "\n",
    "homicidios_df = homicidios_df_combinado"
   ]
  },
  {
   "cell_type": "code",
   "execution_count": 24,
   "metadata": {},
   "outputs": [
    {
     "name": "stdout",
     "output_type": "stream",
     "text": [
      "    id_siniestro  nro_victimas       fecha  franja_hora tipo_calle  comuna  \\\n",
      "121    2016-0151             1  2016-11-18         20.0      calle       0   \n",
      "141    2016-0174             1  2016-12-27          0.0  autopista       0   \n",
      "\n",
      "     longitud  latitud vehiculo_victima vehiculo_acusado     rol sexo  edad  \n",
      "121       NaN      NaN           peaton              NaN  peaton   sd   NaN  \n",
      "141       NaN      NaN              NaN              NaN      sd   sd   NaN  \n"
     ]
    }
   ],
   "source": [
    "# Buscar filas con latitud o longitud NaN o nulas\n",
    "filas_faltantes = homicidios_df[homicidios_df['latitud'].isna() | homicidios_df['longitud'].isna()]\n",
    "\n",
    "# Imprimir las filas encontradas\n",
    "print(filas_faltantes)\n"
   ]
  },
  {
   "cell_type": "code",
   "execution_count": 25,
   "metadata": {},
   "outputs": [
    {
     "name": "stdout",
     "output_type": "stream",
     "text": [
      "    id_siniestro  nro_victimas       fecha  franja_hora tipo_calle  comuna  \\\n",
      "0      2016-0001             1  2016-01-01          4.0    avenida       8   \n",
      "1      2016-0002             1  2016-01-02          1.0   gral paz       9   \n",
      "2      2016-0003             1  2016-01-03          7.0    avenida       1   \n",
      "3      2016-0004             1  2016-01-10          0.0    avenida       8   \n",
      "4      2016-0005             1  2016-01-21          5.0    avenida       1   \n",
      "..           ...           ...         ...          ...        ...     ...   \n",
      "712    2021-0093             1  2021-12-13         17.0    avenida       7   \n",
      "713    2021-0094             1  2021-12-20          1.0  autopista       9   \n",
      "714    2021-0095             1  2021-12-30          0.0    avenida      11   \n",
      "715    2021-0096             1  2021-12-15         10.0    avenida       9   \n",
      "716    2021-0097             1  2021-11-18          6.0      calle       1   \n",
      "\n",
      "      longitud    latitud vehiculo_victima vehiculo_acusado  \\\n",
      "0   -58.475340 -34.687570             moto             auto   \n",
      "1   -58.508775 -34.669777             auto        pasajeros   \n",
      "2   -58.390403 -34.631894             moto             auto   \n",
      "3   -58.465039 -34.680930             moto              NaN   \n",
      "4   -58.387183 -34.622466             moto        pasajeros   \n",
      "..         ...        ...              ...              ...   \n",
      "712 -58.433538 -34.645616             moto             auto   \n",
      "713 -58.467398 -34.651178             moto             auto   \n",
      "714 -58.472934 -34.619847             moto           cargas   \n",
      "715 -58.470668 -34.650217             auto           cargas   \n",
      "716 -58.379762 -34.586796        bicicleta             auto   \n",
      "\n",
      "                      rol       sexo  edad  \n",
      "0               conductor  masculino  19.0  \n",
      "1               conductor  masculino  70.0  \n",
      "2               conductor  masculino  30.0  \n",
      "3               conductor  masculino  18.0  \n",
      "4               conductor  masculino  29.0  \n",
      "..                    ...        ...   ...  \n",
      "712  pasajero_acompañante   femenino  18.0  \n",
      "713  pasajero_acompañante   femenino  43.0  \n",
      "714             conductor  masculino  27.0  \n",
      "715             conductor  masculino  60.0  \n",
      "716              ciclista  masculino  53.0  \n",
      "\n",
      "[715 rows x 13 columns]\n"
     ]
    }
   ],
   "source": [
    "# Filtrar las filas donde 'comuna' no es igual a 0\n",
    "homicidios_df = homicidios_df[homicidios_df['comuna'] != 0]\n",
    "\n",
    "# Imprimir el DataFrame después de eliminar las filas\n",
    "print(homicidios_df)\n"
   ]
  },
  {
   "cell_type": "code",
   "execution_count": 23,
   "metadata": {},
   "outputs": [
    {
     "name": "stdout",
     "output_type": "stream",
     "text": [
      "                  Nulos  Porcentaje\n",
      "id_siniestro          0    0.000000\n",
      "nro_victimas          0    0.000000\n",
      "fecha                 0    0.000000\n",
      "franja_hora           1    0.139470\n",
      "tipo_calle            0    0.000000\n",
      "comuna                0    0.000000\n",
      "longitud              2    0.278940\n",
      "latitud               2    0.278940\n",
      "vehiculo_victima      9    1.255230\n",
      "vehiculo_acusado     23    3.207810\n",
      "rol                   0    0.000000\n",
      "sexo                  0    0.000000\n",
      "edad                 53    7.391911\n"
     ]
    }
   ],
   "source": [
    "# Obtener el conteo de nulos por columna de homicidios_df\n",
    "null_count = homicidios_df.isnull().sum()\n",
    "\n",
    "# Obtener el porcentaje de nulos por columna\n",
    "null_percentage = (homicidios_df.isnull().mean()) * 100\n",
    "\n",
    "# Crear un nuevo DataFrame con la información de conteo y porcentaje\n",
    "null_info = pd.DataFrame({\n",
    "    'Nulos': null_count,\n",
    "    'Porcentaje': null_percentage\n",
    "})\n",
    "\n",
    "# Imprimir el nuevo DataFrame\n",
    "print(null_info)"
   ]
  },
  {
   "cell_type": "code",
   "execution_count": 5,
   "metadata": {},
   "outputs": [
    {
     "data": {
      "image/png": "[encoded data removed]",
      "text/plain": [
       "<Figure size 900x300 with 1 Axes>"
      ]
     },
     "metadata": {},
     "output_type": "display_data"
    },
    {
     "data": {
      "image/png": "[encoded data removed]",
      "text/plain": [
       "<Figure size 900x600 with 1 Axes>"
      ]
     },
     "metadata": {},
     "output_type": "display_data"
    }
   ],
   "source": [
    "# Calcular el porcentaje de valores nulos por columna\n",
    "porcentaje_nulos = homicidios_df.isnull().mean() * 100\n",
    "\n",
    "# Calcular el porcentaje de valores nulos por columna para víctimas fatales\n",
    "porcentaje_nulos= homicidios_df.isnull().mean() * 100\n",
    "# Crear una paleta de colores personalizada\n",
    "cmap_custom = sns.color_palette(['#440154', '#FFB400'])\n",
    "\n",
    "# Crear un mapa de calor (heatmap) de valores nulos con el porcentaje\n",
    "plt.figure(figsize=(9, 3))\n",
    "sns.heatmap(homicidios_df.isnull(), cbar=False, cmap=cmap_custom)\n",
    "\n",
    "# Agregar el texto con el porcentaje de nulos en cada columna\n",
    "for col, porcentaje in porcentaje_nulos.items():\n",
    "    plt.text(homicidios_df.columns.get_loc(col) + 0.5, 1900, f'{porcentaje:.2f}%', rotation=90,\n",
    "             va='center', ha='center', color='white')\n",
    "\n",
    "plt.title('Mapa de Calor de Valores Nulos con Porcentaje para Todas las Variables')\n",
    "plt.show()\n",
    "\n",
    "# Crear la figura y los ejes para un solo gráfico\n",
    "fig, ax = plt.subplots(figsize=(9, 6))\n",
    "\n",
    "# Gráfico: Porcentaje de valores nulos para víctimas fatales\n",
    "sns.barplot(x=porcentaje_nulos.index, y=100 - porcentaje_nulos.values, color=cmap_custom[0], label='No Nulo', ax=ax)\n",
    "sns.barplot(x=porcentaje_nulos.index, y=porcentaje_nulos.values, color=cmap_custom[1], label='Nulo', ax=ax)\n",
    "ax.set_title('Porcentaje de Valores Nulos para Víctimas Fatales')\n",
    "ax.set_xticklabels(ax.get_xticklabels(), rotation=90)\n",
    "ax.legend()\n",
    "\n",
    "# Mostrar la figura\n",
    "plt.show()"
   ]
  },
  {
   "cell_type": "code",
   "execution_count": 28,
   "metadata": {},
   "outputs": [],
   "source": [
    "# Guardamos los cambios en el archivo CVS\n",
    "homicidios_df.to_csv('homicidios_cleaned.csv', index=False)\n"
   ]
  },
  {
   "cell_type": "markdown",
   "metadata": {},
   "source": [
    "Como resultado del ETL , ralizando un analisis EDA poder ver que los datos estan listos para su uso"
   ]
  }
 ],
 "metadata": {
  "kernelspec": {
   "display_name": "Python 3",
   "language": "python",
   "name": "python3"
  },
  "language_info": {
   "codemirror_mode": {
    "name": "ipython",
    "version": 3
   },
   "file_extension": ".py",
   "mimetype": "text/x-python",
   "name": "python",
   "nbconvert_exporter": "python",
   "pygments_lexer": "ipython3",
   "version": "3.12.1"
  }
 },
 "nbformat": 4,
 "nbformat_minor": 2
}
